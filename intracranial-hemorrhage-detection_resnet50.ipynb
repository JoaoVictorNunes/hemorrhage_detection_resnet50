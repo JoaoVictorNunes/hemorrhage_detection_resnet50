{
 "cells": [
  {
   "cell_type": "code",
   "execution_count": 1,
   "id": "a7cd964d",
   "metadata": {},
   "outputs": [],
   "source": [
    "import numpy as np\n",
    "import tensorflow as tf\n",
    "import os\n",
    "from tensorflow.keras import datasets, layers, models\n",
    "import matplotlib.pyplot as plt\n",
    "import pandas as pd"
   ]
  },
  {
   "cell_type": "code",
   "execution_count": 2,
   "id": "8980f61b",
   "metadata": {},
   "outputs": [],
   "source": [
    "from tensorflow import keras\n",
    "from tensorflow.keras import layers\n",
    "from tensorflow.python.keras.layers import Dense, Flatten\n",
    "from tensorflow.keras.models import Sequential\n",
    "from tensorflow.keras.optimizers import Adam"
   ]
  },
  {
   "cell_type": "code",
   "execution_count": 3,
   "id": "6aa7795e",
   "metadata": {},
   "outputs": [],
   "source": [
    "PATH = r'C:\\Users\\joaov\\OneDrive\\Documentos\\rsna-intracranial-hemorrhage-detection\\random_selected_dataset'\n",
    "\n",
    "train_dir = os.path.join(PATH, 'train')\n",
    "validation_dir = os.path.join(PATH, 'validation')\n",
    "test_dir = os.path.join(PATH, 'test')"
   ]
  },
  {
   "cell_type": "code",
   "execution_count": 4,
   "id": "0b99b4d2",
   "metadata": {},
   "outputs": [
    {
     "name": "stdout",
     "output_type": "stream",
     "text": [
      "Found 2000 files belonging to 2 classes.\n"
     ]
    }
   ],
   "source": [
    "BATCH_SIZE = 32\n",
    "IMG_SIZE = (180, 180)\n",
    "\n",
    "train_dataset = tf.keras.utils.image_dataset_from_directory(train_dir,\n",
    "                                                            shuffle=True,\n",
    "                                                            seed=42,\n",
    "                                                            batch_size=BATCH_SIZE,\n",
    "                                                            image_size=IMG_SIZE)"
   ]
  },
  {
   "cell_type": "code",
   "execution_count": 5,
   "id": "6be089b3",
   "metadata": {},
   "outputs": [
    {
     "name": "stdout",
     "output_type": "stream",
     "text": [
      "Found 200 files belonging to 2 classes.\n"
     ]
    }
   ],
   "source": [
    "validation_dataset = tf.keras.utils.image_dataset_from_directory(validation_dir,\n",
    "                                                            shuffle=True,\n",
    "                                                            seed=42,\n",
    "                                                            batch_size=BATCH_SIZE,\n",
    "                                                            image_size=IMG_SIZE)\n"
   ]
  },
  {
   "cell_type": "code",
   "execution_count": 6,
   "id": "63460e1f",
   "metadata": {},
   "outputs": [
    {
     "name": "stdout",
     "output_type": "stream",
     "text": [
      "Found 600 files belonging to 2 classes.\n"
     ]
    }
   ],
   "source": [
    "test_dataset = tf.keras.utils.image_dataset_from_directory(test_dir,\n",
    "                                                            shuffle=True,\n",
    "                                                            seed=42,\n",
    "                                                            batch_size=BATCH_SIZE,\n",
    "                                                            image_size=IMG_SIZE)"
   ]
  },
  {
   "cell_type": "code",
   "execution_count": 7,
   "id": "6c12f6b2",
   "metadata": {},
   "outputs": [],
   "source": [
    "def adjust_ds(ds):\n",
    "    AUTOTUNE = tf.data.AUTOTUNE\n",
    "    ds = ds.prefetch(buffer_size=AUTOTUNE)\n",
    "    normalization_layer = tf.keras.layers.Rescaling(1./255)\n",
    "    adjusted_ds = ds.map(lambda x, y: (normalization_layer(x), y))\n",
    "    \n",
    "    return adjusted_ds\n",
    "    \n",
    "    \n",
    "train_dataset = adjust_ds(train_dataset)\n",
    "validation_dataset = adjust_ds(validation_dataset)\n",
    "test_dataset = adjust_ds(test_dataset)"
   ]
  },
  {
   "cell_type": "code",
   "execution_count": 8,
   "id": "87206668",
   "metadata": {},
   "outputs": [],
   "source": [
    "num_classes = 1\n",
    "\n",
    "resnet_model = Sequential()\n",
    "pretrained_model = tf.keras.applications.ResNet50(\n",
    "    include_top=False,\n",
    "    input_shape=(180,180,3),\n",
    "    pooling='avg',\n",
    "    classes=num_classes,\n",
    "    weights='imagenet'\n",
    ")\n",
    "\n",
    "for layer in pretrained_model.layers:\n",
    "  layer.trainable=False\n",
    "\n",
    "resnet_model.add(pretrained_model)\n",
    "resnet_model.add(Flatten())\n",
    "resnet_model.add(Dense(512, activation='relu'))\n",
    "resnet_model.add(Dense(num_classes, activation='sigmoid'))"
   ]
  },
  {
   "cell_type": "code",
   "execution_count": 9,
   "id": "5a870492",
   "metadata": {},
   "outputs": [
    {
     "name": "stdout",
     "output_type": "stream",
     "text": [
      "Model: \"sequential\"\n",
      "_________________________________________________________________\n",
      " Layer (type)                Output Shape              Param #   \n",
      "=================================================================\n",
      " resnet50 (Functional)       (None, 2048)              23587712  \n",
      "                                                                 \n",
      " module_wrapper (ModuleWrapp  (None, 2048)             0         \n",
      " er)                                                             \n",
      "                                                                 \n",
      " module_wrapper_1 (ModuleWra  (None, 512)              1049088   \n",
      " pper)                                                           \n",
      "                                                                 \n",
      " module_wrapper_2 (ModuleWra  (None, 1)                513       \n",
      " pper)                                                           \n",
      "                                                                 \n",
      "=================================================================\n",
      "Total params: 24,637,313\n",
      "Trainable params: 1,049,601\n",
      "Non-trainable params: 23,587,712\n",
      "_________________________________________________________________\n"
     ]
    }
   ],
   "source": [
    "resnet_model.summary()"
   ]
  },
  {
   "cell_type": "code",
   "execution_count": 10,
   "id": "f4f1d1a7",
   "metadata": {},
   "outputs": [],
   "source": [
    "def compile_model(learning_rate):\n",
    "    resnet_model.compile(\n",
    "      optimizer=keras.optimizers.Adam(learning_rate=learning_rate),\n",
    "      loss=tf.losses.BinaryCrossentropy(),\n",
    "      metrics=['accuracy', tf.keras.metrics.Precision(), tf.keras.metrics.Recall()])\n",
    "    "
   ]
  },
  {
   "cell_type": "code",
   "execution_count": 11,
   "id": "0cdd68ab",
   "metadata": {},
   "outputs": [],
   "source": [
    "def fit_model(train_dataset, validation_dataset, epochs):\n",
    "    history = resnet_model.fit(\n",
    "        train_dataset,\n",
    "        validation_data=validation_dataset,\n",
    "        epochs=epochs)\n",
    "    return history"
   ]
  },
  {
   "cell_type": "code",
   "execution_count": 12,
   "id": "32575d75",
   "metadata": {},
   "outputs": [
    {
     "name": "stdout",
     "output_type": "stream",
     "text": [
      "Epoch 1/50\n",
      "63/63 [==============================] - 100s 2s/step - loss: 0.6998 - accuracy: 0.5245 - precision: 0.5241 - recall: 0.5330 - val_loss: 0.7049 - val_accuracy: 0.5000 - val_precision: 0.0000e+00 - val_recall: 0.0000e+00\n",
      "Epoch 2/50\n",
      "63/63 [==============================] - 97s 2s/step - loss: 0.6801 - accuracy: 0.5670 - precision: 0.5657 - recall: 0.5770 - val_loss: 0.6784 - val_accuracy: 0.5900 - val_precision: 0.5738 - val_recall: 0.7000\n",
      "Epoch 3/50\n",
      "63/63 [==============================] - 97s 2s/step - loss: 0.6701 - accuracy: 0.5885 - precision: 0.5833 - recall: 0.6200 - val_loss: 0.6889 - val_accuracy: 0.5500 - val_precision: 0.5284 - val_recall: 0.9300\n",
      "Epoch 4/50\n",
      "63/63 [==============================] - 98s 2s/step - loss: 0.6658 - accuracy: 0.5915 - precision: 0.5867 - recall: 0.6190 - val_loss: 0.6708 - val_accuracy: 0.5900 - val_precision: 0.5738 - val_recall: 0.7000\n",
      "Epoch 5/50\n",
      "63/63 [==============================] - 99s 2s/step - loss: 0.6713 - accuracy: 0.5680 - precision: 0.5653 - recall: 0.5890 - val_loss: 0.6740 - val_accuracy: 0.5500 - val_precision: 0.6786 - val_recall: 0.1900\n",
      "Epoch 6/50\n",
      "63/63 [==============================] - 100s 2s/step - loss: 0.6574 - accuracy: 0.6055 - precision: 0.5907 - recall: 0.6870 - val_loss: 0.6662 - val_accuracy: 0.5750 - val_precision: 0.5540 - val_recall: 0.7700\n",
      "Epoch 7/50\n",
      "63/63 [==============================] - 99s 2s/step - loss: 0.6521 - accuracy: 0.6175 - precision: 0.5997 - recall: 0.7070 - val_loss: 0.6802 - val_accuracy: 0.5700 - val_precision: 0.5422 - val_recall: 0.9000\n",
      "Epoch 8/50\n",
      "63/63 [==============================] - 100s 2s/step - loss: 0.6566 - accuracy: 0.5900 - precision: 0.5830 - recall: 0.6320 - val_loss: 0.6608 - val_accuracy: 0.5850 - val_precision: 0.5612 - val_recall: 0.7800\n",
      "Epoch 9/50\n",
      "63/63 [==============================] - 100s 2s/step - loss: 0.6489 - accuracy: 0.6115 - precision: 0.6028 - recall: 0.6540 - val_loss: 0.6641 - val_accuracy: 0.5950 - val_precision: 0.5629 - val_recall: 0.8500\n",
      "Epoch 10/50\n",
      "63/63 [==============================] - 100s 2s/step - loss: 0.6438 - accuracy: 0.6160 - precision: 0.5905 - recall: 0.7570 - val_loss: 0.6649 - val_accuracy: 0.5450 - val_precision: 0.6552 - val_recall: 0.1900\n",
      "Epoch 11/50\n",
      "63/63 [==============================] - 100s 2s/step - loss: 0.6479 - accuracy: 0.5945 - precision: 0.5933 - recall: 0.6010 - val_loss: 0.6652 - val_accuracy: 0.5500 - val_precision: 0.6667 - val_recall: 0.2000\n",
      "Epoch 12/50\n",
      "63/63 [==============================] - 100s 2s/step - loss: 0.6453 - accuracy: 0.5940 - precision: 0.5883 - recall: 0.6260 - val_loss: 0.6582 - val_accuracy: 0.6000 - val_precision: 0.5685 - val_recall: 0.8300\n",
      "Epoch 13/50\n",
      "63/63 [==============================] - 99s 2s/step - loss: 0.6430 - accuracy: 0.6075 - precision: 0.6035 - recall: 0.6270 - val_loss: 0.6629 - val_accuracy: 0.5650 - val_precision: 0.6757 - val_recall: 0.2500\n",
      "Epoch 14/50\n",
      "63/63 [==============================] - 100s 2s/step - loss: 0.6418 - accuracy: 0.6070 - precision: 0.5954 - recall: 0.6680 - val_loss: 0.6638 - val_accuracy: 0.6000 - val_precision: 0.5658 - val_recall: 0.8600\n",
      "Epoch 15/50\n",
      "63/63 [==============================] - 100s 2s/step - loss: 0.6420 - accuracy: 0.5985 - precision: 0.5915 - recall: 0.6370 - val_loss: 0.6681 - val_accuracy: 0.5900 - val_precision: 0.5570 - val_recall: 0.8800\n",
      "Epoch 16/50\n",
      "63/63 [==============================] - 100s 2s/step - loss: 0.6356 - accuracy: 0.6095 - precision: 0.5930 - recall: 0.6980 - val_loss: 0.6556 - val_accuracy: 0.6050 - val_precision: 0.5789 - val_recall: 0.7700\n",
      "Epoch 17/50\n",
      "63/63 [==============================] - 100s 2s/step - loss: 0.6362 - accuracy: 0.6185 - precision: 0.6072 - recall: 0.6710 - val_loss: 0.6575 - val_accuracy: 0.5600 - val_precision: 0.6667 - val_recall: 0.2400\n",
      "Epoch 18/50\n",
      "63/63 [==============================] - 100s 2s/step - loss: 0.6343 - accuracy: 0.6135 - precision: 0.5998 - recall: 0.6820 - val_loss: 0.6688 - val_accuracy: 0.6050 - val_precision: 0.5652 - val_recall: 0.9100\n",
      "Epoch 19/50\n",
      "63/63 [==============================] - 100s 2s/step - loss: 0.6286 - accuracy: 0.6175 - precision: 0.6007 - recall: 0.7010 - val_loss: 0.6565 - val_accuracy: 0.5750 - val_precision: 0.7027 - val_recall: 0.2600\n",
      "Epoch 20/50\n",
      "63/63 [==============================] - 100s 2s/step - loss: 0.6314 - accuracy: 0.6060 - precision: 0.5972 - recall: 0.6510 - val_loss: 0.6608 - val_accuracy: 0.5900 - val_precision: 0.5592 - val_recall: 0.8500\n",
      "Epoch 21/50\n",
      "63/63 [==============================] - 100s 2s/step - loss: 0.6317 - accuracy: 0.6205 - precision: 0.6007 - recall: 0.7190 - val_loss: 0.6615 - val_accuracy: 0.5950 - val_precision: 0.5629 - val_recall: 0.8500\n",
      "Epoch 22/50\n",
      "63/63 [==============================] - 100s 2s/step - loss: 0.6322 - accuracy: 0.6160 - precision: 0.6109 - recall: 0.6390 - val_loss: 0.6543 - val_accuracy: 0.6050 - val_precision: 0.5714 - val_recall: 0.8400\n",
      "Epoch 23/50\n",
      "63/63 [==============================] - 100s 2s/step - loss: 0.6304 - accuracy: 0.6155 - precision: 0.6000 - recall: 0.6930 - val_loss: 0.6589 - val_accuracy: 0.6000 - val_precision: 0.5667 - val_recall: 0.8500\n",
      "Epoch 24/50\n",
      "63/63 [==============================] - 100s 2s/step - loss: 0.6343 - accuracy: 0.6160 - precision: 0.6049 - recall: 0.6690 - val_loss: 0.6547 - val_accuracy: 0.6050 - val_precision: 0.5705 - val_recall: 0.8500\n",
      "Epoch 25/50\n",
      "63/63 [==============================] - 100s 2s/step - loss: 0.6286 - accuracy: 0.6240 - precision: 0.6163 - recall: 0.6570 - val_loss: 0.6521 - val_accuracy: 0.6100 - val_precision: 0.5775 - val_recall: 0.8200\n",
      "Epoch 26/50\n",
      "63/63 [==============================] - 100s 2s/step - loss: 0.6305 - accuracy: 0.6175 - precision: 0.6089 - recall: 0.6570 - val_loss: 0.6790 - val_accuracy: 0.5500 - val_precision: 0.6786 - val_recall: 0.1900\n",
      "Epoch 27/50\n",
      "63/63 [==============================] - 100s 2s/step - loss: 0.6253 - accuracy: 0.6285 - precision: 0.6134 - recall: 0.6950 - val_loss: 0.6551 - val_accuracy: 0.5750 - val_precision: 0.7027 - val_recall: 0.2600\n",
      "Epoch 28/50\n",
      "63/63 [==============================] - 100s 2s/step - loss: 0.6238 - accuracy: 0.6245 - precision: 0.6160 - recall: 0.6610 - val_loss: 0.6591 - val_accuracy: 0.6000 - val_precision: 0.5667 - val_recall: 0.8500\n",
      "Epoch 29/50\n",
      "63/63 [==============================] - 100s 2s/step - loss: 0.6219 - accuracy: 0.6295 - precision: 0.6143 - recall: 0.6960 - val_loss: 0.6712 - val_accuracy: 0.6050 - val_precision: 0.5644 - val_recall: 0.9200\n",
      "Epoch 30/50\n",
      "63/63 [==============================] - 100s 2s/step - loss: 0.6215 - accuracy: 0.6240 - precision: 0.6133 - recall: 0.6710 - val_loss: 0.6536 - val_accuracy: 0.6000 - val_precision: 0.5676 - val_recall: 0.8400\n",
      "Epoch 31/50\n",
      "63/63 [==============================] - 100s 2s/step - loss: 0.6230 - accuracy: 0.6230 - precision: 0.6057 - recall: 0.7050 - val_loss: 0.6515 - val_accuracy: 0.6050 - val_precision: 0.5724 - val_recall: 0.8300\n",
      "Epoch 32/50\n",
      "63/63 [==============================] - 100s 2s/step - loss: 0.6169 - accuracy: 0.6235 - precision: 0.6042 - recall: 0.7160 - val_loss: 0.6733 - val_accuracy: 0.5950 - val_precision: 0.5583 - val_recall: 0.9100\n",
      "Epoch 33/50\n",
      "63/63 [==============================] - 100s 2s/step - loss: 0.6220 - accuracy: 0.6195 - precision: 0.6029 - recall: 0.7000 - val_loss: 0.6539 - val_accuracy: 0.6000 - val_precision: 0.5676 - val_recall: 0.8400\n",
      "Epoch 34/50\n",
      "63/63 [==============================] - 100s 2s/step - loss: 0.6184 - accuracy: 0.6015 - precision: 0.5880 - recall: 0.6780 - val_loss: 0.6547 - val_accuracy: 0.5950 - val_precision: 0.5638 - val_recall: 0.8400\n",
      "Epoch 35/50\n",
      "63/63 [==============================] - 101s 2s/step - loss: 0.6166 - accuracy: 0.6205 - precision: 0.6123 - recall: 0.6570 - val_loss: 0.6531 - val_accuracy: 0.6000 - val_precision: 0.5676 - val_recall: 0.8400\n",
      "Epoch 36/50\n",
      "63/63 [==============================] - 101s 2s/step - loss: 0.6183 - accuracy: 0.6385 - precision: 0.6179 - recall: 0.7260 - val_loss: 0.6562 - val_accuracy: 0.5950 - val_precision: 0.5638 - val_recall: 0.8400\n",
      "Epoch 37/50\n",
      "63/63 [==============================] - 100s 2s/step - loss: 0.6186 - accuracy: 0.6215 - precision: 0.6074 - recall: 0.6870 - val_loss: 0.6545 - val_accuracy: 0.5800 - val_precision: 0.7105 - val_recall: 0.2700\n"
     ]
    },
    {
     "name": "stdout",
     "output_type": "stream",
     "text": [
      "Epoch 38/50\n",
      "63/63 [==============================] - 100s 2s/step - loss: 0.6169 - accuracy: 0.6155 - precision: 0.6061 - recall: 0.6600 - val_loss: 0.6524 - val_accuracy: 0.6050 - val_precision: 0.5724 - val_recall: 0.8300\n",
      "Epoch 39/50\n",
      "63/63 [==============================] - 100s 2s/step - loss: 0.6175 - accuracy: 0.6365 - precision: 0.6188 - recall: 0.7110 - val_loss: 0.6627 - val_accuracy: 0.6000 - val_precision: 0.5641 - val_recall: 0.8800\n",
      "Epoch 40/50\n",
      "63/63 [==============================] - 100s 2s/step - loss: 0.6245 - accuracy: 0.6275 - precision: 0.6269 - recall: 0.6300 - val_loss: 0.6845 - val_accuracy: 0.5850 - val_precision: 0.5515 - val_recall: 0.9100\n",
      "Epoch 41/50\n",
      "63/63 [==============================] - 100s 2s/step - loss: 0.6157 - accuracy: 0.6375 - precision: 0.6065 - recall: 0.7830 - val_loss: 0.6696 - val_accuracy: 0.5650 - val_precision: 0.7097 - val_recall: 0.2200\n",
      "Epoch 42/50\n",
      "63/63 [==============================] - 100s 2s/step - loss: 0.6171 - accuracy: 0.6335 - precision: 0.6221 - recall: 0.6800 - val_loss: 0.6699 - val_accuracy: 0.5950 - val_precision: 0.5590 - val_recall: 0.9000\n",
      "Epoch 43/50\n",
      "63/63 [==============================] - 101s 2s/step - loss: 0.6103 - accuracy: 0.6305 - precision: 0.6134 - recall: 0.7060 - val_loss: 0.6521 - val_accuracy: 0.6050 - val_precision: 0.5724 - val_recall: 0.8300\n",
      "Epoch 44/50\n",
      "63/63 [==============================] - 100s 2s/step - loss: 0.6163 - accuracy: 0.6275 - precision: 0.6100 - recall: 0.7070 - val_loss: 0.6503 - val_accuracy: 0.6000 - val_precision: 0.5714 - val_recall: 0.8000\n",
      "Epoch 45/50\n",
      "63/63 [==============================] - 100s 2s/step - loss: 0.6130 - accuracy: 0.6340 - precision: 0.6163 - recall: 0.7100 - val_loss: 0.6515 - val_accuracy: 0.6000 - val_precision: 0.5704 - val_recall: 0.8100\n",
      "Epoch 46/50\n",
      "63/63 [==============================] - 100s 2s/step - loss: 0.6046 - accuracy: 0.6485 - precision: 0.6126 - recall: 0.8080 - val_loss: 0.6620 - val_accuracy: 0.5700 - val_precision: 0.7188 - val_recall: 0.2300\n",
      "Epoch 47/50\n",
      "63/63 [==============================] - 100s 2s/step - loss: 0.6079 - accuracy: 0.6375 - precision: 0.6193 - recall: 0.7140 - val_loss: 0.6577 - val_accuracy: 0.6050 - val_precision: 0.5705 - val_recall: 0.8500\n",
      "Epoch 48/50\n",
      "63/63 [==============================] - 101s 2s/step - loss: 0.6127 - accuracy: 0.6435 - precision: 0.6294 - recall: 0.6980 - val_loss: 0.6600 - val_accuracy: 0.5950 - val_precision: 0.5621 - val_recall: 0.8600\n",
      "Epoch 49/50\n",
      "63/63 [==============================] - 100s 2s/step - loss: 0.6056 - accuracy: 0.6380 - precision: 0.6186 - recall: 0.7200 - val_loss: 0.6738 - val_accuracy: 0.5850 - val_precision: 0.5535 - val_recall: 0.8800\n",
      "Epoch 50/50\n",
      "63/63 [==============================] - 100s 2s/step - loss: 0.6111 - accuracy: 0.6355 - precision: 0.6224 - recall: 0.6890 - val_loss: 0.6559 - val_accuracy: 0.6100 - val_precision: 0.5743 - val_recall: 0.8500\n"
     ]
    }
   ],
   "source": [
    "learning_rates = [0.0001]\n",
    "\n",
    "for index, learning_rate in enumerate(learning_rates):\n",
    "    compile_model(learning_rate)\n",
    "    history = fit_model(train_dataset, validation_dataset, 50)\n",
    "    \n",
    "    PATH_ = r'C:\\Users\\joaov\\Downloads'\n",
    "    NAME = f'resnet50_{index}_lr{learning_rate}.csv'\n",
    "    df = pd.DataFrame(history.history)\n",
    "    df.to_csv(os.path.join(PATH_, NAME))"
   ]
  },
  {
   "cell_type": "code",
   "execution_count": 13,
   "id": "880874b7",
   "metadata": {},
   "outputs": [
    {
     "name": "stdout",
     "output_type": "stream",
     "text": [
      "19/19 [==============================] - 27s 1s/step\n"
     ]
    }
   ],
   "source": [
    "predictions = resnet_model.predict(test_dataset)"
   ]
  },
  {
   "cell_type": "code",
   "execution_count": 14,
   "id": "5d15e9ad",
   "metadata": {},
   "outputs": [],
   "source": [
    "predictions = np.round(predictions)"
   ]
  },
  {
   "cell_type": "code",
   "execution_count": 15,
   "id": "4cacfaf2",
   "metadata": {},
   "outputs": [],
   "source": [
    "test_dataset = test_dataset.unbatch()"
   ]
  },
  {
   "cell_type": "code",
   "execution_count": 16,
   "id": "cd74ea62",
   "metadata": {},
   "outputs": [],
   "source": [
    "labels = list(test_dataset.map(lambda x, y: y))\n",
    "labels = np.array(labels)"
   ]
  },
  {
   "cell_type": "code",
   "execution_count": 17,
   "id": "d584676c",
   "metadata": {},
   "outputs": [],
   "source": [
    "from sklearn.metrics import confusion_matrix"
   ]
  },
  {
   "cell_type": "code",
   "execution_count": 18,
   "id": "8dc3a6d6",
   "metadata": {},
   "outputs": [
    {
     "data": {
      "text/plain": [
       "array([[100, 200],\n",
       "       [ 80, 220]], dtype=int64)"
      ]
     },
     "execution_count": 18,
     "metadata": {},
     "output_type": "execute_result"
    }
   ],
   "source": [
    "cm = confusion_matrix(labels, predictions)\n",
    "cm"
   ]
  },
  {
   "cell_type": "code",
   "execution_count": 19,
   "id": "687fc5df",
   "metadata": {},
   "outputs": [
    {
     "data": {
      "text/plain": [
       "0.3333333333333333"
      ]
     },
     "execution_count": 19,
     "metadata": {},
     "output_type": "execute_result"
    }
   ],
   "source": [
    "sensitivity = cm[0][0]/(cm[0][0] + cm[0][1])\n",
    "sensitivity"
   ]
  },
  {
   "cell_type": "code",
   "execution_count": 20,
   "id": "ded16e0c",
   "metadata": {},
   "outputs": [
    {
     "data": {
      "text/plain": [
       "0.7333333333333333"
      ]
     },
     "execution_count": 20,
     "metadata": {},
     "output_type": "execute_result"
    }
   ],
   "source": [
    "specificity = cm[1][1]/(cm[1][1] + cm[1][0])\n",
    "specificity"
   ]
  },
  {
   "cell_type": "code",
   "execution_count": 21,
   "id": "d4bc7d12",
   "metadata": {},
   "outputs": [
    {
     "data": {
      "text/plain": [
       "0.5333333333333333"
      ]
     },
     "execution_count": 21,
     "metadata": {},
     "output_type": "execute_result"
    }
   ],
   "source": [
    "accuracy = (cm[0][0] + cm[1][1])/cm.sum()\n",
    "accuracy"
   ]
  },
  {
   "cell_type": "code",
   "execution_count": null,
   "id": "e82171af",
   "metadata": {},
   "outputs": [],
   "source": []
  }
 ],
 "metadata": {
  "kernelspec": {
   "display_name": "Python 3 (ipykernel)",
   "language": "python",
   "name": "python3"
  },
  "language_info": {
   "codemirror_mode": {
    "name": "ipython",
    "version": 3
   },
   "file_extension": ".py",
   "mimetype": "text/x-python",
   "name": "python",
   "nbconvert_exporter": "python",
   "pygments_lexer": "ipython3",
   "version": "3.11.4"
  }
 },
 "nbformat": 4,
 "nbformat_minor": 5
}
